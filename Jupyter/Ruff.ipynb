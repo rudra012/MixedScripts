{
 "cells": [
  {
   "cell_type": "markdown",
   "id": "fd427c6b",
   "metadata": {},
   "source": [
    "# Bubble sort"
   ]
  },
  {
   "cell_type": "code",
   "execution_count": 1,
   "id": "26a7223d",
   "metadata": {},
   "outputs": [
    {
     "data": {
      "text/plain": [
       "(49, [34, 32, 21, 20, 10, 5, 2])"
      ]
     },
     "execution_count": 1,
     "metadata": {},
     "output_type": "execute_result"
    }
   ],
   "source": [
    "# Descending order\n",
    "l = [21,34,2,5,10,32,20]\n",
    "n_len = len(l)\n",
    "loop = 0\n",
    "for i in range(n_len):\n",
    "    for j in range(n_len):\n",
    "        loop += 1\n",
    "        if l[i] > l[j]:\n",
    "            l[i], l[j] = l[j], l[i]\n",
    "loop, l"
   ]
  },
  {
   "cell_type": "code",
   "execution_count": 2,
   "id": "0fc786f4",
   "metadata": {},
   "outputs": [
    {
     "data": {
      "text/plain": [
       "(21, [34, 32, 21, 20, 10, 5, 2])"
      ]
     },
     "execution_count": 2,
     "metadata": {},
     "output_type": "execute_result"
    }
   ],
   "source": [
    "# Descending order\n",
    "l = [21,34,2,5,10,32,20]\n",
    "n_len = len(l)\n",
    "loop = 0\n",
    "for i in range(n_len):\n",
    "    for j in range(n_len-i-1):\n",
    "        loop += 1\n",
    "        if l[j] < l[j+1]:\n",
    "            l[j], l[j+1] = l[j+1], l[j]\n",
    "loop, l"
   ]
  },
  {
   "cell_type": "code",
   "execution_count": 3,
   "id": "796829f5",
   "metadata": {},
   "outputs": [
    {
     "data": {
      "text/plain": [
       "(49, [2, 5, 10, 20, 21, 32, 34])"
      ]
     },
     "execution_count": 3,
     "metadata": {},
     "output_type": "execute_result"
    }
   ],
   "source": [
    "# Ascending order\n",
    "l = [21,34,2,5,10,32,20]\n",
    "n_len = len(l)\n",
    "loop = 0\n",
    "for i in range(n_len):\n",
    "    for j in range(n_len):\n",
    "        loop += 1\n",
    "        if l[i] < l[j]:\n",
    "            l[i], l[j] = l[j], l[i]\n",
    "loop, l"
   ]
  },
  {
   "cell_type": "code",
   "execution_count": 4,
   "id": "e1547689",
   "metadata": {},
   "outputs": [
    {
     "data": {
      "text/plain": [
       "(21, [2, 5, 10, 20, 21, 32, 34])"
      ]
     },
     "execution_count": 4,
     "metadata": {},
     "output_type": "execute_result"
    }
   ],
   "source": [
    "# Ascending order\n",
    "l = [21,34,2,5,10,32,20]\n",
    "n_len = len(l)\n",
    "loop = 0\n",
    "for i in range(n_len):\n",
    "    for j in range(n_len-i-1):\n",
    "        loop += 1\n",
    "        if l[j] > l[j+1]:\n",
    "            l[j], l[j+1] = l[j+1], l[j]\n",
    "loop, l"
   ]
  },
  {
   "cell_type": "code",
   "execution_count": null,
   "id": "f805c9ef",
   "metadata": {},
   "outputs": [],
   "source": []
  }
 ],
 "metadata": {
  "kernelspec": {
   "display_name": "Python 3",
   "language": "python",
   "name": "python3"
  },
  "language_info": {
   "codemirror_mode": {
    "name": "ipython",
    "version": 3
   },
   "file_extension": ".py",
   "mimetype": "text/x-python",
   "name": "python",
   "nbconvert_exporter": "python",
   "pygments_lexer": "ipython3",
   "version": "3.8.5"
  }
 },
 "nbformat": 4,
 "nbformat_minor": 5
}
